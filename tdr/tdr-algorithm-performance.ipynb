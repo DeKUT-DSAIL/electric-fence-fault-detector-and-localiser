{
 "cells": [
  {
   "cell_type": "markdown",
   "id": "270926e0",
   "metadata": {},
   "source": [
    "# Algorithm Performance\n",
    "\n",
    "This notebook assesses the performance of the tdr algorithm. The metrics used are **Mean Squared Error (MSE), Root Mean Squared Error (RMSE), Mean Absolute Error (MAE) and Inner Ratio Metric (IRM)**."
   ]
  },
  {
   "cell_type": "code",
   "execution_count": 1,
   "id": "b3466858",
   "metadata": {},
   "outputs": [],
   "source": [
    "import os\n",
    "import numpy as np\n",
    "import configparser\n",
    "import pandas as pd\n",
    "import tdr_utils as ut"
   ]
  },
  {
   "cell_type": "code",
   "execution_count": 2,
   "id": "4cb803ba",
   "metadata": {},
   "outputs": [],
   "source": [
    "# Get parameters from configuration file\n",
    "config = configparser.ConfigParser()\n",
    "config.read('tdr-parameters.ini')\n",
    "\n",
    "threshold = int(config['signal']['threshold'])\n",
    "frequency = float(config['signal']['frequency'])\n",
    "duty_cycle = float(config['signal']['duty_cycle'])\n",
    "num_samples = int(config['signal']['num_samples'])\n",
    "sampling_rate = float(config['signal']['sampling_rate'])\n",
    "\n",
    "num_edges = int(config['search']['num_edges']) #number of rising and falling, each, edges to search for\n",
    "overlap_offset = int(config['search']['overlap_offset']) #number of samples to offset overlap threshold with\n",
    "\n",
    "win_size = int(config['win_interest']['win_size']) \n",
    "prior_samples = int(config['win_interest']['prior_samples']) # samples to consider before rising/falling edge index\n",
    "\n",
    "\n",
    "overlap_threshold = duty_cycle * (sampling_rate / frequency) - overlap_offset\n",
    "t = np.linspace(0, num_samples / sampling_rate, num=num_samples) * 1000 #time in milliseconds"
   ]
  },
  {
   "cell_type": "code",
   "execution_count": 3,
   "id": "71e85f5b",
   "metadata": {},
   "outputs": [],
   "source": [
    "e_values = [] #expected distance values\n",
    "p_values = [] #predicted distance values\n",
    "excel_file = 'files-paths.xlsx'\n",
    "xls = pd.ExcelFile(excel_file)\n",
    "for name in xls.sheet_names:\n",
    "    paths = pd.read_excel(excel_file, sheet_name=name)['paths'].tolist()\n",
    "    \n",
    "    for path in paths:\n",
    "        v = ut.file_loader(path) #load the file\n",
    "        valid_file = ut.file_validity(v, num_samples, threshold) #check if there was a bus conflict while saving the file\n",
    "\n",
    "        if valid_file:\n",
    "            edges_indices = ut.edges_detection(v, t, num_edges, win_size, prior_samples, overlap_threshold)\n",
    "            avg_t_delay,  t_delays = ut.avg_delay(edges_indices, win_size, v, t, prior_samples, display=False)\n",
    "            p_fault = ut.fault_point(avg_t_delay, short_circuit=False)\n",
    "\n",
    "            p_values.append(p_fault)\n",
    "            e_values.append(float(name))\n"
   ]
  },
  {
   "cell_type": "code",
   "execution_count": 4,
   "id": "2eac643e",
   "metadata": {},
   "outputs": [
    {
     "name": "stdout",
     "output_type": "stream",
     "text": [
      "Model performance for all faults: Metrics(mse=2.5770553361071755, rmse=1.6053209448914494, mae=1.3416852885701298, irm=0.9975550122249389)\n"
     ]
    }
   ],
   "source": [
    "#model performance\n",
    "performance = ut.performance_metrics(e_values, p_values)\n",
    "print('Model performance for all faults:', performance)"
   ]
  }
 ],
 "metadata": {
  "kernelspec": {
   "display_name": "Python 3 (ipykernel)",
   "language": "python",
   "name": "python3"
  },
  "language_info": {
   "codemirror_mode": {
    "name": "ipython",
    "version": 3
   },
   "file_extension": ".py",
   "mimetype": "text/x-python",
   "name": "python",
   "nbconvert_exporter": "python",
   "pygments_lexer": "ipython3",
   "version": "3.10.7"
  }
 },
 "nbformat": 4,
 "nbformat_minor": 5
}
